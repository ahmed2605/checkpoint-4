{
 "cells": [
  {
   "cell_type": "code",
   "execution_count": 25,
   "id": "4c14920a",
   "metadata": {},
   "outputs": [
    {
     "name": "stdout",
     "output_type": "stream",
     "text": [
      "6\n",
      "-6\n"
     ]
    }
   ],
   "source": [
    "def multiply_list(items) :\n",
    "    tot = 1\n",
    "    for x in items :\n",
    "       tot = tot*x\n",
    "    return tot\n",
    "list1 = [1,2,3]\n",
    "list2 = [3,2,-1]\n",
    "print(multiply_list(list1))\n",
    "print(multiply_list(list2))"
   ]
  },
  {
   "cell_type": "code",
   "execution_count": 18,
   "id": "19bebdff",
   "metadata": {},
   "outputs": [
    {
     "name": "stdout",
     "output_type": "stream",
     "text": [
      "[(2, 1), (1, 2), (2, 3), (4, 4), (2, 5)]\n"
     ]
    }
   ],
   "source": [
    "def last (n) : return n[-1]\n",
    "def sort_list_last (tuples) :\n",
    "    return sorted (tuples, key=last)\n",
    "print (sort_list_last ([(2, 5), (1, 2), (4, 4), (2, 3), (2, 1)]))"
   ]
  },
  {
   "cell_type": "code",
   "execution_count": 21,
   "id": "2128c128",
   "metadata": {},
   "outputs": [
    {
     "name": "stdout",
     "output_type": "stream",
     "text": [
      "{'a': 400, 'b': 400, 'c': 700}\n"
     ]
    }
   ],
   "source": [
    "d1 = {\"a\": 100, \"b\": 200, \"c\": 300}\n",
    "d2 = {\"a\":300, \"b\": 200, \"c\": 400}\n",
    "d3 = {}\n",
    "for i,j in d1.items () :\n",
    "    for x,y in d2.items () :\n",
    "        if i==x :\n",
    "            d3[i]=(j+y)\n",
    "print (d3)            "
   ]
  },
  {
   "cell_type": "code",
   "execution_count": 26,
   "id": "d78218be",
   "metadata": {},
   "outputs": [
    {
     "name": "stdout",
     "output_type": "stream",
     "text": [
      "3\n",
      "{1: 1, 2: 4, 3: 9}\n"
     ]
    }
   ],
   "source": [
    "n = int(input())\n",
    "d = {x :x*x for x in range (1,n+1)}\n",
    "print (d)"
   ]
  },
  {
   "cell_type": "code",
   "execution_count": 29,
   "id": "bf503ecd",
   "metadata": {},
   "outputs": [
    {
     "name": "stdout",
     "output_type": "stream",
     "text": [
      "[('item3', '24.5'), ('item2', '15.5'), ('item1', '12.2')]\n"
     ]
    }
   ],
   "source": [
    "def Sort(tup):\n",
    "    return(sorted(tup, key = lambda x: float(x[1]), reverse = True))\n",
    "tup = [('item1', '12.2'), ('item2', '15.5'), ('item3', '24.5')]\n",
    "print(Sort(tup))"
   ]
  },
  {
   "cell_type": "code",
   "execution_count": null,
   "id": "bb583569",
   "metadata": {},
   "outputs": [],
   "source": []
  }
 ],
 "metadata": {
  "kernelspec": {
   "display_name": "Python 3",
   "language": "python",
   "name": "python3"
  },
  "language_info": {
   "codemirror_mode": {
    "name": "ipython",
    "version": 3
   },
   "file_extension": ".py",
   "mimetype": "text/x-python",
   "name": "python",
   "nbconvert_exporter": "python",
   "pygments_lexer": "ipython3",
   "version": "3.8.8"
  }
 },
 "nbformat": 4,
 "nbformat_minor": 5
}
